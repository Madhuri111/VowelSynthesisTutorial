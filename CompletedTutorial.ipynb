{
 "cells": [
  {
   "cell_type": "markdown",
   "metadata": {},
   "source": [
    "First, run `pip install audiopy` and `pip install audiolazy` from your command line. Next import the needed modules."
   ]
  },
  {
   "cell_type": "code",
   "execution_count": 1,
   "metadata": {},
   "outputs": [],
   "source": [
    "# Import modules\n",
    "from __future__ import unicode_literals, print_function\n",
    "\n",
    "from audiolazy import (sHz, maverage, rint, AudioIO, ControlStream,\n",
    "                       CascadeFilter, resonator, saw_table, chunks)\n",
    "from time import sleep\n",
    "import sys\n",
    "\n",
    "# Initialization\n",
    "rate = 44100\n",
    "s, Hz = sHz(rate)\n",
    "inertia_dur = .5 * s\n",
    "inertia_filter = maverage(rint(inertia_dur))\n",
    "\n",
    "# Initialize api options\n",
    "api = None\n",
    "chunks.size = 16"
   ]
  },
  {
   "cell_type": "markdown",
   "metadata": {},
   "source": [
    "Next, define a dictionary with the first two formants for one vowel."
   ]
  },
  {
   "cell_type": "code",
   "execution_count": 2,
   "metadata": {},
   "outputs": [],
   "source": [
    "# Initialize formant dictionary with /i/ and list of vowels\n",
    "formants = { \"i\": [437, 2761] }\n",
    "vowels = ['i']"
   ]
  },
  {
   "cell_type": "markdown",
   "metadata": {},
   "source": [
    "Synthysize the vowel"
   ]
  },
  {
   "cell_type": "code",
   "execution_count": 3,
   "metadata": {},
   "outputs": [
    {
     "name": "stdout",
     "output_type": "stream",
     "text": [
      "Now playing: i\n"
     ]
    }
   ],
   "source": [
    "# Use the with statement to close the player when complete and prevent degredation of audio sythesis\n",
    "with AudioIO(api=api) as player:\n",
    "    # Initialize formant streams for sythesis using first vowel\n",
    "    first_coeffs = formants['i']\n",
    "    f1 = ControlStream(first_coeffs[0] * Hz)\n",
    "    f2 = ControlStream(first_coeffs[1] * Hz)\n",
    "    gain = ControlStream(0) # Apply gain to fade in smoothly\n",
    "\n",
    "    # Generate signal using cascade filter\n",
    "    filt = CascadeFilter([\n",
    "      resonator.z_exp(inertia_filter(f1).skip(inertia_dur), 400 * Hz),\n",
    "      resonator.z_exp(inertia_filter(f2).skip(inertia_dur), 2000 * Hz),\n",
    "    ])\n",
    "    sig = filt((saw_table)(100 * Hz)) * inertia_filter(gain)\n",
    "\n",
    "    # Begin player in the background\n",
    "    th = player.play(sig)\n",
    "\n",
    "    # Play current vowel\n",
    "    coeffs = formants['i']\n",
    "    print(\"Now playing: i\")\n",
    "    f1.value = coeffs[0] * Hz\n",
    "    f2.value = coeffs[1] * Hz\n",
    "    gain.value = 1 # Apply gain to fade in smoothly\n",
    "    sleep(2) # Sleep to allow vowel to be synthesized by player\n",
    "\n",
    "    # Fade out sound smoothly\n",
    "    gain.value = 0\n",
    "    sleep(inertia_dur / s + .2) # Divide by s because here it's already expecting a value in seconds, and we don't want ot give a value in a time-squaed unit like s ** 2"
   ]
  },
  {
   "cell_type": "markdown",
   "metadata": {},
   "source": [
    "Add vowel and play both using function"
   ]
  },
  {
   "cell_type": "code",
   "execution_count": 4,
   "metadata": {},
   "outputs": [
    {
     "name": "stdout",
     "output_type": "stream",
     "text": [
      "Now playing:  i\n",
      "Now playing:  u\n"
     ]
    }
   ],
   "source": [
    "# Add /u/ to formant dictionary and add /u/ to list of vowels\n",
    "formants['u'] = [459, 1105]\n",
    "vowels.append('u')\n",
    "\n",
    "# Create function to synthesize vowels in loop\n",
    "def play_vowels_2formants(formants, vowels):\n",
    "    # Use the with statement to close the player when complete and prevent degredation of audio sythesis\n",
    "    with AudioIO(api=api) as player:\n",
    "        # Initialize formant streams for sythesis using first vowel\n",
    "        first_coeffs = formants[vowels[0]]\n",
    "        f1 = ControlStream(first_coeffs[0] * Hz)\n",
    "        f2 = ControlStream(first_coeffs[1] * Hz)\n",
    "        gain = ControlStream(0) # Apply gain to fade in smoothly\n",
    "\n",
    "        # Generate signal using cascade filter\n",
    "        filt = CascadeFilter([\n",
    "          resonator.z_exp(inertia_filter(f1).skip(inertia_dur), 400 * Hz),\n",
    "          resonator.z_exp(inertia_filter(f2).skip(inertia_dur), 2000 * Hz),\n",
    "        ])\n",
    "        sig = filt((saw_table)(100 * Hz)) * inertia_filter(gain)\n",
    "\n",
    "        # Begin player in the background\n",
    "        th = player.play(sig)\n",
    "        \n",
    "        # Loop through vowels and play\n",
    "        for vowel in vowels:\n",
    "            # Play current vowel\n",
    "            coeffs = formants[vowel]\n",
    "            print(\"Now playing: \", vowel)\n",
    "            f1.value = coeffs[0] * Hz\n",
    "            f2.value = coeffs[1] * Hz\n",
    "            gain.value = 1 # Apply gain to fade in smoothly\n",
    "            sleep(2) # Sleep to allow vowel to be synthesized by player\n",
    "            \n",
    "        # Fade out sound smoothly\n",
    "        gain.value = 0\n",
    "        sleep(inertia_dur / s + .2) # Divide by s because here it's already expecting a value in seconds, and we don't want ot give a value in a time-squaed unit like s ** 2\n",
    "\n",
    "# Play both vowels using function\n",
    "play_vowels_2formants(formants, vowels)"
   ]
  },
  {
   "cell_type": "markdown",
   "metadata": {},
   "source": [
    "Try adding a third formant to the vowels."
   ]
  },
  {
   "cell_type": "code",
   "execution_count": 5,
   "metadata": {},
   "outputs": [
    {
     "name": "stdout",
     "output_type": "stream",
     "text": [
      "Now playing:  i\n",
      "Now playing:  u\n"
     ]
    }
   ],
   "source": [
    "# Add third formant to each vowel\n",
    "formants['i'] = [437, 2761, 3372]\n",
    "formants['u'] = [459, 1105, 2735]\n",
    "# Create function to synthesize vowels in loop modified to play 3 formants\n",
    "def play_vowels_3formants(formants, vowels):\n",
    "    # Use the with statement to close the player when complete and prevent degredation of audio sythesis\n",
    "    with AudioIO(api=api) as player:\n",
    "        # Initialize formant streams for sythesis using first vowel\n",
    "        first_coeffs = formants[vowels[0]]\n",
    "        f1 = ControlStream(first_coeffs[0] * Hz)\n",
    "        f2 = ControlStream(first_coeffs[1] * Hz)\n",
    "        f3 = ControlStream(first_coeffs[2] * Hz)\n",
    "        gain = ControlStream(0) # Apply gain to fade in smoothly\n",
    "\n",
    "        # Generate signal using cascade filter\n",
    "        filt = CascadeFilter([\n",
    "            resonator.z_exp(inertia_filter(f1).skip(inertia_dur), 400 * Hz),\n",
    "            resonator.z_exp(inertia_filter(f2).skip(inertia_dur), 2000 * Hz),\n",
    "            resonator.z_exp(inertia_filter(f3).skip(inertia_dur), 3000 * Hz)\n",
    "        ])\n",
    "        sig = filt((saw_table)(100 * Hz)) * inertia_filter(gain)\n",
    "\n",
    "        # Begin player in the background\n",
    "        th = player.play(sig)\n",
    "        \n",
    "        # Loop through vowels and play\n",
    "        for vowel in vowels:\n",
    "            # Play current vowel\n",
    "            coeffs = formants[vowel]\n",
    "            print(\"Now playing: \", vowel)\n",
    "            f1.value = coeffs[0] * Hz\n",
    "            f2.value = coeffs[1] * Hz\n",
    "            f3.value = coeffs[2] * Hz\n",
    "            gain.value = 1 # Apply gain to fade in smoothly\n",
    "            sleep(2) # Sleep to allow vowel to be synthesized by player\n",
    "            \n",
    "        # Fade out sound smoothly\n",
    "        gain.value = 0\n",
    "        sleep(inertia_dur / s + .2) # Divide by s because here it's already expecting a value in seconds, and we don't want ot give a value in a time-squaed unit like s ** 2\n",
    "\n",
    "# Play both vowels using function\n",
    "play_vowels_3formants(formants, vowels)"
   ]
  },
  {
   "cell_type": "markdown",
   "metadata": {},
   "source": [
    "Now try with only the first formant"
   ]
  },
  {
   "cell_type": "code",
   "execution_count": 6,
   "metadata": {},
   "outputs": [
    {
     "name": "stdout",
     "output_type": "stream",
     "text": [
      "Now playing:  i\n",
      "Now playing:  u\n"
     ]
    }
   ],
   "source": [
    "# Remove formants from each vowel to leave only the first\n",
    "formants['i'] = [437]\n",
    "formants['u'] = [459]\n",
    "# Create function to synthesize vowels in loop modified to play 1 formant\n",
    "def play_vowels_1formant(formants, vowels):\n",
    "    # Use the with statement to close the player when complete and prevent degredation of audio sythesis\n",
    "    with AudioIO(api=api) as player:\n",
    "        # Initialize formant streams for sythesis using first vowel\n",
    "        first_coeffs = formants[vowels[0]]\n",
    "        f1 = ControlStream(first_coeffs[0] * Hz)\n",
    "        gain = ControlStream(0) # Apply gain to fade in smoothly\n",
    "\n",
    "        # Generate signal using cascade filter\n",
    "        filt = CascadeFilter([\n",
    "            resonator.z_exp(inertia_filter(f1).skip(inertia_dur), 400 * Hz)\n",
    "        ])\n",
    "        sig = filt((saw_table)(100 * Hz)) * inertia_filter(gain)\n",
    "\n",
    "        # Begin player in the background\n",
    "        th = player.play(sig)\n",
    "        \n",
    "        # Loop through vowels and play\n",
    "        for vowel in vowels:\n",
    "            # Play current vowel\n",
    "            coeffs = formants[vowel]\n",
    "            print(\"Now playing: \", vowel)\n",
    "            f1.value = coeffs[0] * Hz\n",
    "            gain.value = 1 # Apply gain to fade in smoothly\n",
    "            sleep(2) # Sleep to allow vowel to be synthesized by player\n",
    "            \n",
    "        # Fade out sound smoothly\n",
    "        gain.value = 0\n",
    "        sleep(inertia_dur / s + .2) # Divide by s because here it's already expecting a value in seconds, and we don't want ot give a value in a time-squaed unit like s ** 2\n",
    "\n",
    "# Play both vowels using function\n",
    "play_vowels_1formant(formants, vowels)"
   ]
  },
  {
   "cell_type": "markdown",
   "metadata": {},
   "source": [
    "Now try with high frequency and low frequency"
   ]
  },
  {
   "cell_type": "code",
   "execution_count": 7,
   "metadata": {},
   "outputs": [
    {
     "name": "stdout",
     "output_type": "stream",
     "text": [
      "Now playing lower formants\n",
      "Now playing:  i\n",
      "Now playing:  u\n",
      "Now playing middle formants\n",
      "Now playing:  i\n",
      "Now playing:  u\n",
      "Now playing higher formants\n",
      "Now playing:  i\n",
      "Now playing:  u\n"
     ]
    }
   ],
   "source": [
    "# Define lower, middle and higher formants\n",
    "formants[\"i\"] = [437, 2761]\n",
    "formants[\"u\"] =  [459, 1105]\n",
    "high_formants = {\"i\": [437*1.5, 2761*1.5], \"u\": [459*1.5, 1105*1.5]}\n",
    "low_formants = {\"i\": [437/1.5, 2761/1.5], \"u\": [459/1.5, 1105/1.5]}\n",
    "# Play synthesized vowels\n",
    "print(\"Now playing lower formants\")\n",
    "play_vowels_2formants(low_formants, vowels)\n",
    "print(\"Now playing middle formants\")\n",
    "play_vowels_2formants(formants, vowels)\n",
    "print(\"Now playing higher formants\")\n",
    "play_vowels_2formants(high_formants, vowels)"
   ]
  },
  {
   "cell_type": "markdown",
   "metadata": {},
   "source": [
    "Now try looping through the whole vowel quadrilateral"
   ]
  },
  {
   "cell_type": "code",
   "execution_count": 8,
   "metadata": {},
   "outputs": [
    {
     "name": "stdout",
     "output_type": "stream",
     "text": [
      "Now playing:  i\n",
      "Now changing between: i and u\n",
      "Now playing:  u\n",
      "Now changing between: u and o\n",
      "Now playing:  o\n",
      "Now changing between: o and a\n",
      "Now playing:  a\n",
      "Now changing between: a and ae\n",
      "Now playing:  ae\n",
      "Now changing between: ae and e\n",
      "Now playing:  e\n",
      "Now changing between: e and i\n",
      "Now playing:  i\n"
     ]
    }
   ],
   "source": [
    "# Define full vowel quadrilateral vowel list and formant dictionary\n",
    "vowels = [\"i\", \"u\", \"o\", \"a\", \"ae\", \"e\", \"i\"]\n",
    "formants = {\n",
    "    \"i\": [437,2761],\n",
    "    \"u\": [459, 1105],\n",
    "    \"o\": [555,1035],\n",
    "    \"a\": [936, 1551],\n",
    "    \"ae\": [669,2349],\n",
    "    \"e\": [536,2530]\n",
    "}\n",
    "# Create function to synthesize interpolated vowels in loop\n",
    "def play_vowels_2formants_interp(formants, vowels):\n",
    "    # Use the with statement to close the player when complete and prevent degredation of audio sythesis\n",
    "    with AudioIO(api=api) as player:\n",
    "        # Initialize formant streams for sythesis using first vowel\n",
    "        first_coeffs = formants[vowels[0]]\n",
    "        f1 = ControlStream(first_coeffs[0] * Hz)\n",
    "        f2 = ControlStream(first_coeffs[1] * Hz)\n",
    "        gain = ControlStream(0) # Apply gain to fade in smoothly\n",
    "\n",
    "        # Generate signal using cascade filter\n",
    "        filt = CascadeFilter([\n",
    "          resonator.z_exp(inertia_filter(f1).skip(inertia_dur), 400 * Hz),\n",
    "          resonator.z_exp(inertia_filter(f2).skip(inertia_dur), 2000 * Hz),\n",
    "        ])\n",
    "        sig = filt((saw_table)(100 * Hz)) * inertia_filter(gain)\n",
    "\n",
    "        # Begin player in the background\n",
    "        th = player.play(sig)\n",
    "        prev_vowel = None\n",
    "        # Loop through vowels and play\n",
    "        for vowel in vowels:\n",
    "            if prev_vowel is not None: # If not the first vowel interpolate between current and previous vowels\n",
    "                coeffs = [0]*len(formants[vowel])\n",
    "                for i in range(len(formants[vowel])):\n",
    "                    coeffs[i] = (formants[vowel][i] + formants[prev_vowel][i])/2\n",
    "                print(\"Now changing between: {} and {}\".format(prev_vowel, vowel))\n",
    "                f1.value = coeffs[0] * Hz\n",
    "                f2.value = coeffs[1] * Hz\n",
    "                sleep(1)\n",
    "            # Play current vowel\n",
    "            coeffs = formants[vowel]\n",
    "            print(\"Now playing: \", vowel)\n",
    "            f1.value = coeffs[0] * Hz\n",
    "            f2.value = coeffs[1] * Hz\n",
    "            gain.value = 1 # Apply gain to fade in smoothly\n",
    "            sleep(1) # Sleep to allow vowel to be synthesized by player\n",
    "            prev_vowel = vowel\n",
    "\n",
    "        # Fade out sound smoothly\n",
    "        gain.value = 0\n",
    "        sleep(inertia_dur / s + .2) # Divide by s because here it's already expecting a value in seconds, and we don't want ot give a value in a time-squaed unit like s ** 2\n",
    "# Play interpolated vowel quadrilateral\n",
    "play_vowels_2formants_interp(formants, vowels)"
   ]
  }
 ],
 "metadata": {
  "kernelspec": {
   "display_name": "Python 3",
   "language": "python",
   "name": "python3"
  },
  "language_info": {
   "codemirror_mode": {
    "name": "ipython",
    "version": 3
   },
   "file_extension": ".py",
   "mimetype": "text/x-python",
   "name": "python",
   "nbconvert_exporter": "python",
   "pygments_lexer": "ipython3",
   "version": "3.6.5"
  }
 },
 "nbformat": 4,
 "nbformat_minor": 2
}
